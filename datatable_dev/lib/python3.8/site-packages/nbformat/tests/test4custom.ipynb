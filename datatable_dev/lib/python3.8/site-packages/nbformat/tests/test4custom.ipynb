{
 "cells": [
  {
   "cell_type": "code",
   "execution_count": 2,
   "metadata": {
    "collapsed": false
   },
   "outputs": [
    {
     "data": {
      "application/vnd.raw.v1+json": {
       "apples": [
        "🍎",
        "🍏"
       ],
       "bananas": 2,
       "oranges": "apples"
      }
     },
     "metadata": {},
     "output_type": "display_data"
    }
   ],
   "source": [
    "import IPython\n",
    "\n",
    "bundle = {}\n",
    "bundle['application/vnd.raw.v1+json'] = {\n",
    "    'apples': ['🍎', '🍏'],\n",
    "    'bananas': 2,\n",
    "    'oranges': 'apples'\n",
    "}\n",
    "\n",
    "IPython.display.display(bundle, raw=True)"
   ]
  },
  {
   "cell_type": "code",
   "execution_count": null,
   "metadata": {
    "collapsed": true
   },
   "outputs": [],
   "source": []
  }
 ],
 "metadata": {
 },
 "nbformat": 4,
 "nbformat_minor": 2
}
