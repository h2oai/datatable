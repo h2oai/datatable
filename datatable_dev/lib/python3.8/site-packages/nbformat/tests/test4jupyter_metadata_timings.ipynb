{
 "cells": [
  {
   "cell_type": "code",
   "execution_count": 5,
   "metadata": {
    "execution": {
     "iopub.execute_input": "2019-08-26T17:50:29.604738Z",
     "iopub.status.busy": "2019-08-26T17:50:29.603423Z",
     "iopub.status.idle": "2019-08-26T17:50:29.628032Z",
     "shell.execute_reply": "2019-08-26T17:50:29.623438Z",
     "shell.execute_reply.started": "2019-08-26T17:50:29.604616Z"
    }
   },
   "outputs": [
    {
     "data": {
      "text/plain": [
       "2"
      ]
     },
     "execution_count": 5,
     "metadata": {},
     "output_type": "execute_result"
    }
   ],
   "source": [
    "1+1"
   ]
  },
  {
   "cell_type": "code",
   "execution_count": null,
   "metadata": {},
   "outputs": [],
   "source": []
  }
 ],
 "metadata": {
  "kernelspec": {
   "display_name": "Python 2",
   "language": "python",
   "name": "python2"
  },
  "language_info": {
   "codemirror_mode": {
    "name": "ipython",
    "version": 3
   },
   "file_extension": ".py",
   "mimetype": "text/x-python",
   "name": "python",
   "nbconvert_exporter": "python",
   "pygments_lexer": "ipython3",
   "version": "3.6.0"
  },
  "record_timing": true
 },
 "nbformat": 4,
 "nbformat_minor": 4
}
